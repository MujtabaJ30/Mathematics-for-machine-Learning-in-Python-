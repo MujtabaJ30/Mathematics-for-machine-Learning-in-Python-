{
 "cells": [
  {
   "cell_type": "markdown",
   "id": "212de24a-0367-4dfa-b5b1-1d6c713467c1",
   "metadata": {},
   "source": [
    "import Pandas and the csv in a df"
   ]
  },
  {
   "cell_type": "code",
   "execution_count": null,
   "id": "af4957ad-6dce-4fd0-ac34-1f3660a4fc31",
   "metadata": {},
   "outputs": [],
   "source": [
    "import pandas as pd\n",
    "\n",
    "df=pd.read_csv(\"AB_NYC_2019.csv\")\n",
    "df"
   ]
  },
  {
   "cell_type": "markdown",
   "id": "2dc7db69-596f-40ed-af4f-da6fe5d528f3",
   "metadata": {},
   "source": [
    "show stats for price"
   ]
  },
  {
   "cell_type": "code",
   "execution_count": 19,
   "id": "e1405ee9-7583-4848-adf7-7a033787d351",
   "metadata": {},
   "outputs": [
    {
     "data": {
      "text/plain": [
       "count    48895.000000\n",
       "mean       152.720687\n",
       "std        240.154170\n",
       "min          0.000000\n",
       "25%         69.000000\n",
       "50%        106.000000\n",
       "75%        175.000000\n",
       "max      10000.000000\n",
       "Name: price, dtype: float64"
      ]
     },
     "execution_count": 19,
     "metadata": {},
     "output_type": "execute_result"
    }
   ],
   "source": [
    "df.price.describe()"
   ]
  },
  {
   "cell_type": "markdown",
   "id": "1b0264d1-7409-4fa6-b3ee-b37b12de395b",
   "metadata": {},
   "source": [
    "show minimum and maximum threshhold"
   ]
  },
  {
   "cell_type": "code",
   "execution_count": null,
   "id": "15afbe6b-f835-43b6-8333-ac7e224310e0",
   "metadata": {},
   "outputs": [],
   "source": [
    "[min_thresh, max_thresh]=df.price.quantile([0.01,0.99])\n",
    "print(\"minimum Threshold is \", min_thresh,\"\\nmaximum threshold is \", max_thresh)"
   ]
  },
  {
   "cell_type": "markdown",
   "id": "65a8ccee-d5df-4141-91be-60326c65d148",
   "metadata": {},
   "source": [
    "take out a new df2 from 1st to 99th percentile"
   ]
  },
  {
   "cell_type": "code",
   "execution_count": null,
   "id": "f7de1a30-782d-45d0-a494-c93a6f5d8373",
   "metadata": {},
   "outputs": [],
   "source": [
    "df2=df[(df.price>=min_thresh) &(df.price<=max_thresh)]\n",
    "df2"
   ]
  },
  {
   "cell_type": "markdown",
   "id": "a166e432-3636-41b0-993c-f3d56b0c0b1b",
   "metadata": {},
   "source": [
    "describe price in df2"
   ]
  },
  {
   "cell_type": "code",
   "execution_count": 20,
   "id": "549fd2de-6597-4b64-b36c-e0c0f2ce1076",
   "metadata": {},
   "outputs": [
    {
     "data": {
      "text/plain": [
       "count    48017.000000\n",
       "mean       138.502010\n",
       "std        103.694011\n",
       "min         30.000000\n",
       "25%         70.000000\n",
       "50%        105.000000\n",
       "75%        175.000000\n",
       "max        799.000000\n",
       "Name: price, dtype: float64"
      ]
     },
     "execution_count": 20,
     "metadata": {},
     "output_type": "execute_result"
    }
   ],
   "source": [
    "df2.price.describe()"
   ]
  }
 ],
 "metadata": {
  "kernelspec": {
   "display_name": "Python 3 (ipykernel)",
   "language": "python",
   "name": "python3"
  },
  "language_info": {
   "codemirror_mode": {
    "name": "ipython",
    "version": 3
   },
   "file_extension": ".py",
   "mimetype": "text/x-python",
   "name": "python",
   "nbconvert_exporter": "python",
   "pygments_lexer": "ipython3",
   "version": "3.12.1"
  }
 },
 "nbformat": 4,
 "nbformat_minor": 5
}
